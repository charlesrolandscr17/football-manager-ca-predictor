{
 "cells": [
  {
   "cell_type": "code",
   "execution_count": 1,
   "metadata": {},
   "outputs": [],
   "source": [
    "import numpy as np\n",
    "import pandas as pd"
   ]
  },
  {
   "cell_type": "code",
   "execution_count": 2,
   "metadata": {},
   "outputs": [
    {
     "data": {
      "text/html": [
       "<div>\n",
       "<style scoped>\n",
       "    .dataframe tbody tr th:only-of-type {\n",
       "        vertical-align: middle;\n",
       "    }\n",
       "\n",
       "    .dataframe tbody tr th {\n",
       "        vertical-align: top;\n",
       "    }\n",
       "\n",
       "    .dataframe thead th {\n",
       "        text-align: right;\n",
       "    }\n",
       "</style>\n",
       "<table border=\"1\" class=\"dataframe\">\n",
       "  <thead>\n",
       "    <tr style=\"text-align: right;\">\n",
       "      <th></th>\n",
       "      <th>Name</th>\n",
       "      <th>Position</th>\n",
       "      <th>Age</th>\n",
       "      <th>ca</th>\n",
       "      <th>pa</th>\n",
       "      <th>Nationality</th>\n",
       "      <th>Club</th>\n",
       "      <th>Corners</th>\n",
       "      <th>Crossing</th>\n",
       "      <th>Dribbling</th>\n",
       "      <th>...</th>\n",
       "      <th>World reputation</th>\n",
       "      <th>Race</th>\n",
       "      <th>RCA</th>\n",
       "      <th>Colour of skin</th>\n",
       "      <th>Date of birth</th>\n",
       "      <th>Number of national team appearances</th>\n",
       "      <th>Goals scored for the national team</th>\n",
       "      <th>Salary</th>\n",
       "      <th>Rental club</th>\n",
       "      <th>UID</th>\n",
       "    </tr>\n",
       "  </thead>\n",
       "  <tbody>\n",
       "    <tr>\n",
       "      <th>0</th>\n",
       "      <td>Kevin De Bruyne</td>\n",
       "      <td>M/AM RLC</td>\n",
       "      <td>31</td>\n",
       "      <td>189</td>\n",
       "      <td>189</td>\n",
       "      <td>Belgium</td>\n",
       "      <td>Manchester City</td>\n",
       "      <td>14</td>\n",
       "      <td>19</td>\n",
       "      <td>15</td>\n",
       "      <td>...</td>\n",
       "      <td>9400</td>\n",
       "      <td>Northern_European</td>\n",
       "      <td>181</td>\n",
       "      <td>4</td>\n",
       "      <td>1991/6/28</td>\n",
       "      <td>91</td>\n",
       "      <td>24</td>\n",
       "      <td>394372.0</td>\n",
       "      <td>NaN</td>\n",
       "      <td>18004457</td>\n",
       "    </tr>\n",
       "    <tr>\n",
       "      <th>1</th>\n",
       "      <td>Kylian Mbappé</td>\n",
       "      <td>AM/S RL</td>\n",
       "      <td>23</td>\n",
       "      <td>188</td>\n",
       "      <td>197</td>\n",
       "      <td>France</td>\n",
       "      <td>Paris Saint-Germain</td>\n",
       "      <td>13</td>\n",
       "      <td>13</td>\n",
       "      <td>18</td>\n",
       "      <td>...</td>\n",
       "      <td>9248</td>\n",
       "      <td>African_Caribbean</td>\n",
       "      <td>172</td>\n",
       "      <td>13</td>\n",
       "      <td>1998/12/20</td>\n",
       "      <td>57</td>\n",
       "      <td>27</td>\n",
       "      <td>1035616.0</td>\n",
       "      <td>NaN</td>\n",
       "      <td>85139014</td>\n",
       "    </tr>\n",
       "    <tr>\n",
       "      <th>2</th>\n",
       "      <td>Robert Lewandowski</td>\n",
       "      <td>S</td>\n",
       "      <td>33</td>\n",
       "      <td>186</td>\n",
       "      <td>190</td>\n",
       "      <td>Poland</td>\n",
       "      <td>Barcelona</td>\n",
       "      <td>3</td>\n",
       "      <td>8</td>\n",
       "      <td>13</td>\n",
       "      <td>...</td>\n",
       "      <td>9250</td>\n",
       "      <td>Northern_European</td>\n",
       "      <td>183</td>\n",
       "      <td>3</td>\n",
       "      <td>1988/8/21</td>\n",
       "      <td>132</td>\n",
       "      <td>76</td>\n",
       "      <td>345204.0</td>\n",
       "      <td>NaN</td>\n",
       "      <td>719601</td>\n",
       "    </tr>\n",
       "    <tr>\n",
       "      <th>3</th>\n",
       "      <td>Erling Haaland</td>\n",
       "      <td>S</td>\n",
       "      <td>22</td>\n",
       "      <td>185</td>\n",
       "      <td>195</td>\n",
       "      <td>Norway,England</td>\n",
       "      <td>Manchester City</td>\n",
       "      <td>7</td>\n",
       "      <td>10</td>\n",
       "      <td>14</td>\n",
       "      <td>...</td>\n",
       "      <td>8750</td>\n",
       "      <td>Northern_European</td>\n",
       "      <td>185</td>\n",
       "      <td>2</td>\n",
       "      <td>2000/7/21</td>\n",
       "      <td>21</td>\n",
       "      <td>20</td>\n",
       "      <td>394372.0</td>\n",
       "      <td>NaN</td>\n",
       "      <td>29179241</td>\n",
       "    </tr>\n",
       "    <tr>\n",
       "      <th>4</th>\n",
       "      <td>Mohamed Salah</td>\n",
       "      <td>AM/S RL</td>\n",
       "      <td>30</td>\n",
       "      <td>185</td>\n",
       "      <td>187</td>\n",
       "      <td>Egypt</td>\n",
       "      <td>Liverpool</td>\n",
       "      <td>12</td>\n",
       "      <td>14</td>\n",
       "      <td>17</td>\n",
       "      <td>...</td>\n",
       "      <td>8750</td>\n",
       "      <td>North_African__Middle_Eastern</td>\n",
       "      <td>181</td>\n",
       "      <td>9</td>\n",
       "      <td>1992/6/15</td>\n",
       "      <td>85</td>\n",
       "      <td>47</td>\n",
       "      <td>405971.0</td>\n",
       "      <td>NaN</td>\n",
       "      <td>98028755</td>\n",
       "    </tr>\n",
       "  </tbody>\n",
       "</table>\n",
       "<p>5 rows × 98 columns</p>\n",
       "</div>"
      ],
      "text/plain": [
       "                 Name  Position  Age   ca   pa     Nationality  \\\n",
       "0     Kevin De Bruyne  M/AM RLC   31  189  189         Belgium   \n",
       "1       Kylian Mbappé   AM/S RL   23  188  197          France   \n",
       "2  Robert Lewandowski         S   33  186  190          Poland   \n",
       "3      Erling Haaland         S   22  185  195  Norway,England   \n",
       "4       Mohamed Salah   AM/S RL   30  185  187           Egypt   \n",
       "\n",
       "                  Club  Corners  Crossing  Dribbling  ...  World reputation  \\\n",
       "0      Manchester City       14        19         15  ...              9400   \n",
       "1  Paris Saint-Germain       13        13         18  ...              9248   \n",
       "2            Barcelona        3         8         13  ...              9250   \n",
       "3      Manchester City        7        10         14  ...              8750   \n",
       "4            Liverpool       12        14         17  ...              8750   \n",
       "\n",
       "                            Race  RCA  Colour of skin  Date of birth  \\\n",
       "0              Northern_European  181               4      1991/6/28   \n",
       "1              African_Caribbean  172              13     1998/12/20   \n",
       "2              Northern_European  183               3      1988/8/21   \n",
       "3              Northern_European  185               2      2000/7/21   \n",
       "4  North_African__Middle_Eastern  181               9      1992/6/15   \n",
       "\n",
       "   Number of national team appearances  Goals scored for the national team  \\\n",
       "0                                   91                                  24   \n",
       "1                                   57                                  27   \n",
       "2                                  132                                  76   \n",
       "3                                   21                                  20   \n",
       "4                                   85                                  47   \n",
       "\n",
       "      Salary  Rental club       UID  \n",
       "0   394372.0          NaN  18004457  \n",
       "1  1035616.0          NaN  85139014  \n",
       "2   345204.0          NaN    719601  \n",
       "3   394372.0          NaN  29179241  \n",
       "4   405971.0          NaN  98028755  \n",
       "\n",
       "[5 rows x 98 columns]"
      ]
     },
     "execution_count": 2,
     "metadata": {},
     "output_type": "execute_result"
    }
   ],
   "source": [
    "df = pd.read_csv(\"./FM 2023.csv\")\n",
    "df.head()"
   ]
  },
  {
   "cell_type": "code",
   "execution_count": 3,
   "metadata": {},
   "outputs": [
    {
     "data": {
      "text/plain": [
       "8452"
      ]
     },
     "execution_count": 3,
     "metadata": {},
     "output_type": "execute_result"
    }
   ],
   "source": [
    "len(df)"
   ]
  },
  {
   "cell_type": "code",
   "execution_count": 4,
   "metadata": {},
   "outputs": [
    {
     "data": {
      "text/plain": [
       "Index(['Name', 'Position', 'Age', 'ca', 'pa', 'Nationality', 'Club', 'Corners',\n",
       "       'Crossing', 'Dribbling', 'Finishing', 'First Touch', 'Free Kick Taking',\n",
       "       'Heading', 'Long Shots', 'Long Throws', 'Marking', 'Passing',\n",
       "       'Penalty Taking', 'Tackling', 'Technique', 'Aggressiion',\n",
       "       'Anticipation', 'Bravery', 'Composure', 'Concentration', 'Vision',\n",
       "       'Decision', 'Determination', 'Flair', 'Leadership', 'Off The Ball',\n",
       "       'Position.1', 'Teamwork', 'Work Rate', 'Acceleration', 'Agility',\n",
       "       'Balance', 'Jumping Reach', 'Natural Fitness', 'Pace', 'Stamina',\n",
       "       'Strength', 'Stability', 'Foul', 'Contest performance', 'Injury',\n",
       "       'diversity', 'Aerial Reach', 'Command Of Area', 'Communication',\n",
       "       'Eccentricity', 'Handling', 'Kicking', 'One On Ones', 'Reflexes',\n",
       "       'Rushing Out', 'Punching', 'Throwing', 'Adaptation', 'Ambition',\n",
       "       'Argue', 'Loyal', 'Resistant to stress', 'Professional',\n",
       "       'Sportsmanship', 'Emotional control', 'GK', 'DL', 'DC', 'DR', 'WBL',\n",
       "       'WBR', 'DM', 'ML', 'MC', 'MR', 'AML', 'AMC', 'AMR', 'ST', 'Height',\n",
       "       'Weight', 'Left Foot', 'Right Foot', 'Values', 'Current reputation',\n",
       "       'Domestic reputation', 'World reputation', 'Race', 'RCA',\n",
       "       'Colour of skin', 'Date of birth',\n",
       "       'Number of national team appearances',\n",
       "       'Goals scored for the national team', 'Salary', 'Rental club', 'UID'],\n",
       "      dtype='object')"
      ]
     },
     "execution_count": 4,
     "metadata": {},
     "output_type": "execute_result"
    }
   ],
   "source": [
    "df.columns"
   ]
  },
  {
   "cell_type": "code",
   "execution_count": 5,
   "metadata": {},
   "outputs": [],
   "source": [
    "dataset = df.drop(\n",
    "    columns=[\n",
    "        \"Values\",\n",
    "        \"Current reputation\",\n",
    "        \"Domestic reputation\",\n",
    "        \"World reputation\",\n",
    "        \"Race\",\n",
    "        \"RCA\",\n",
    "        \"Colour of skin\",\n",
    "        \"Date of birth\",\n",
    "        \"Position\",\n",
    "        \"Number of national team appearances\",\n",
    "\n",
    "        \"Goals scored for the national team\",\n",
    "        \"Salary\",\n",
    "        \"Rental club\",\n",
    "        \"UID\",\n",
    "        \"Name\",\n",
    "        \"Club\",\n",
    "        \"Nationality\",\n",
    "        \"Age\",\n",
    "        \"Contest performance\",\n",
    "        \"Adaptation\",\n",
    "        \"Ambition\",\n",
    "        \"pa\",\n",
    "        \"Injury\",\n",
    "        \"Argue\",\n",
    "        \"Loyal\",\n",
    "        \"Resistant to stress\",\n",
    "        \"Professional\",\n",
    "        \"Sportsmanship\",\n",
    "        \"Emotional control\",\n",
    "        \"Height\",\n",
    "        \"Weight\",\n",
    "    ]\n",
    ")"
   ]
  },
  {
   "cell_type": "code",
   "execution_count": 6,
   "metadata": {},
   "outputs": [
    {
     "data": {
      "text/html": [
       "<div>\n",
       "<style scoped>\n",
       "    .dataframe tbody tr th:only-of-type {\n",
       "        vertical-align: middle;\n",
       "    }\n",
       "\n",
       "    .dataframe tbody tr th {\n",
       "        vertical-align: top;\n",
       "    }\n",
       "\n",
       "    .dataframe thead th {\n",
       "        text-align: right;\n",
       "    }\n",
       "</style>\n",
       "<table border=\"1\" class=\"dataframe\">\n",
       "  <thead>\n",
       "    <tr style=\"text-align: right;\">\n",
       "      <th></th>\n",
       "      <th>ca</th>\n",
       "      <th>Corners</th>\n",
       "      <th>Crossing</th>\n",
       "      <th>Dribbling</th>\n",
       "      <th>Finishing</th>\n",
       "      <th>First Touch</th>\n",
       "      <th>Free Kick Taking</th>\n",
       "      <th>Heading</th>\n",
       "      <th>Long Shots</th>\n",
       "      <th>Long Throws</th>\n",
       "      <th>...</th>\n",
       "      <th>DM</th>\n",
       "      <th>ML</th>\n",
       "      <th>MC</th>\n",
       "      <th>MR</th>\n",
       "      <th>AML</th>\n",
       "      <th>AMC</th>\n",
       "      <th>AMR</th>\n",
       "      <th>ST</th>\n",
       "      <th>Left Foot</th>\n",
       "      <th>Right Foot</th>\n",
       "    </tr>\n",
       "  </thead>\n",
       "  <tbody>\n",
       "    <tr>\n",
       "      <th>0</th>\n",
       "      <td>189</td>\n",
       "      <td>14</td>\n",
       "      <td>19</td>\n",
       "      <td>15</td>\n",
       "      <td>16</td>\n",
       "      <td>16</td>\n",
       "      <td>17</td>\n",
       "      <td>6</td>\n",
       "      <td>17</td>\n",
       "      <td>7</td>\n",
       "      <td>...</td>\n",
       "      <td>12</td>\n",
       "      <td>15</td>\n",
       "      <td>20</td>\n",
       "      <td>15</td>\n",
       "      <td>14</td>\n",
       "      <td>20</td>\n",
       "      <td>14</td>\n",
       "      <td>12</td>\n",
       "      <td>16</td>\n",
       "      <td>20</td>\n",
       "    </tr>\n",
       "    <tr>\n",
       "      <th>1</th>\n",
       "      <td>188</td>\n",
       "      <td>13</td>\n",
       "      <td>13</td>\n",
       "      <td>18</td>\n",
       "      <td>17</td>\n",
       "      <td>18</td>\n",
       "      <td>12</td>\n",
       "      <td>7</td>\n",
       "      <td>13</td>\n",
       "      <td>4</td>\n",
       "      <td>...</td>\n",
       "      <td>1</td>\n",
       "      <td>10</td>\n",
       "      <td>1</td>\n",
       "      <td>10</td>\n",
       "      <td>19</td>\n",
       "      <td>1</td>\n",
       "      <td>17</td>\n",
       "      <td>20</td>\n",
       "      <td>10</td>\n",
       "      <td>20</td>\n",
       "    </tr>\n",
       "    <tr>\n",
       "      <th>2</th>\n",
       "      <td>186</td>\n",
       "      <td>3</td>\n",
       "      <td>8</td>\n",
       "      <td>13</td>\n",
       "      <td>19</td>\n",
       "      <td>18</td>\n",
       "      <td>15</td>\n",
       "      <td>17</td>\n",
       "      <td>12</td>\n",
       "      <td>3</td>\n",
       "      <td>...</td>\n",
       "      <td>1</td>\n",
       "      <td>1</td>\n",
       "      <td>1</td>\n",
       "      <td>1</td>\n",
       "      <td>10</td>\n",
       "      <td>12</td>\n",
       "      <td>8</td>\n",
       "      <td>20</td>\n",
       "      <td>13</td>\n",
       "      <td>20</td>\n",
       "    </tr>\n",
       "    <tr>\n",
       "      <th>3</th>\n",
       "      <td>185</td>\n",
       "      <td>7</td>\n",
       "      <td>10</td>\n",
       "      <td>14</td>\n",
       "      <td>18</td>\n",
       "      <td>16</td>\n",
       "      <td>13</td>\n",
       "      <td>15</td>\n",
       "      <td>13</td>\n",
       "      <td>5</td>\n",
       "      <td>...</td>\n",
       "      <td>1</td>\n",
       "      <td>1</td>\n",
       "      <td>1</td>\n",
       "      <td>1</td>\n",
       "      <td>1</td>\n",
       "      <td>1</td>\n",
       "      <td>1</td>\n",
       "      <td>20</td>\n",
       "      <td>20</td>\n",
       "      <td>11</td>\n",
       "    </tr>\n",
       "    <tr>\n",
       "      <th>4</th>\n",
       "      <td>185</td>\n",
       "      <td>12</td>\n",
       "      <td>14</td>\n",
       "      <td>17</td>\n",
       "      <td>17</td>\n",
       "      <td>17</td>\n",
       "      <td>12</td>\n",
       "      <td>10</td>\n",
       "      <td>13</td>\n",
       "      <td>6</td>\n",
       "      <td>...</td>\n",
       "      <td>1</td>\n",
       "      <td>1</td>\n",
       "      <td>1</td>\n",
       "      <td>1</td>\n",
       "      <td>17</td>\n",
       "      <td>12</td>\n",
       "      <td>20</td>\n",
       "      <td>19</td>\n",
       "      <td>20</td>\n",
       "      <td>8</td>\n",
       "    </tr>\n",
       "  </tbody>\n",
       "</table>\n",
       "<p>5 rows × 67 columns</p>\n",
       "</div>"
      ],
      "text/plain": [
       "    ca  Corners  Crossing  Dribbling  Finishing  First Touch  \\\n",
       "0  189       14        19         15         16           16   \n",
       "1  188       13        13         18         17           18   \n",
       "2  186        3         8         13         19           18   \n",
       "3  185        7        10         14         18           16   \n",
       "4  185       12        14         17         17           17   \n",
       "\n",
       "   Free Kick Taking  Heading  Long Shots  Long Throws  ...  DM  ML  MC  MR  \\\n",
       "0                17        6          17            7  ...  12  15  20  15   \n",
       "1                12        7          13            4  ...   1  10   1  10   \n",
       "2                15       17          12            3  ...   1   1   1   1   \n",
       "3                13       15          13            5  ...   1   1   1   1   \n",
       "4                12       10          13            6  ...   1   1   1   1   \n",
       "\n",
       "   AML  AMC  AMR  ST  Left Foot  Right Foot  \n",
       "0   14   20   14  12         16          20  \n",
       "1   19    1   17  20         10          20  \n",
       "2   10   12    8  20         13          20  \n",
       "3    1    1    1  20         20          11  \n",
       "4   17   12   20  19         20           8  \n",
       "\n",
       "[5 rows x 67 columns]"
      ]
     },
     "execution_count": 6,
     "metadata": {},
     "output_type": "execute_result"
    }
   ],
   "source": [
    "dataset.head()"
   ]
  },
  {
   "cell_type": "code",
   "execution_count": 7,
   "metadata": {},
   "outputs": [
    {
     "data": {
      "text/plain": [
       "True"
      ]
     },
     "execution_count": 7,
     "metadata": {},
     "output_type": "execute_result"
    }
   ],
   "source": [
    "dataset.rename(columns={\"Position.1\": \"Positioning\"}, inplace=True)\n",
    "\"Positioning\" in dataset.columns"
   ]
  },
  {
   "cell_type": "code",
   "execution_count": 8,
   "metadata": {},
   "outputs": [
    {
     "data": {
      "text/plain": [
       "Index(['ca', 'Corners', 'Crossing', 'Dribbling', 'Finishing', 'First Touch',\n",
       "       'Free Kick Taking', 'Heading', 'Long Shots', 'Long Throws', 'Marking',\n",
       "       'Passing', 'Penalty Taking', 'Tackling', 'Technique', 'Aggressiion',\n",
       "       'Anticipation', 'Bravery', 'Composure', 'Concentration', 'Vision',\n",
       "       'Decision', 'Determination', 'Flair', 'Leadership', 'Off The Ball',\n",
       "       'Positioning', 'Teamwork', 'Work Rate', 'Acceleration', 'Agility',\n",
       "       'Balance', 'Jumping Reach', 'Natural Fitness', 'Pace', 'Stamina',\n",
       "       'Strength', 'Stability', 'Foul', 'diversity', 'Aerial Reach',\n",
       "       'Command Of Area', 'Communication', 'Eccentricity', 'Handling',\n",
       "       'Kicking', 'One On Ones', 'Reflexes', 'Rushing Out', 'Punching',\n",
       "       'Throwing', 'GK', 'DL', 'DC', 'DR', 'WBL', 'WBR', 'DM', 'ML', 'MC',\n",
       "       'MR', 'AML', 'AMC', 'AMR', 'ST', 'Left Foot', 'Right Foot'],\n",
       "      dtype='object')"
      ]
     },
     "execution_count": 8,
     "metadata": {},
     "output_type": "execute_result"
    }
   ],
   "source": [
    "dataset.columns"
   ]
  },
  {
   "cell_type": "code",
   "execution_count": 9,
   "metadata": {},
   "outputs": [],
   "source": [
    "from sklearn.model_selection import train_test_split\n",
    "\n",
    "X_train, X_test, y_train, y_test = train_test_split(\n",
    "    dataset.drop(\n",
    "        columns=[\n",
    "            \"ca\",\n",
    "        ]\n",
    "    ),\n",
    "    dataset[\"ca\"],\n",
    "    test_size=0.2,\n",
    ")"
   ]
  },
  {
   "cell_type": "code",
   "execution_count": 10,
   "metadata": {},
   "outputs": [],
   "source": [
    "from sklearn.linear_model import LinearRegression\n",
    "\n",
    "lr = LinearRegression()"
   ]
  },
  {
   "cell_type": "code",
   "execution_count": 11,
   "metadata": {},
   "outputs": [
    {
     "data": {
      "text/html": [
       "<style>#sk-container-id-1 {color: black;}#sk-container-id-1 pre{padding: 0;}#sk-container-id-1 div.sk-toggleable {background-color: white;}#sk-container-id-1 label.sk-toggleable__label {cursor: pointer;display: block;width: 100%;margin-bottom: 0;padding: 0.3em;box-sizing: border-box;text-align: center;}#sk-container-id-1 label.sk-toggleable__label-arrow:before {content: \"▸\";float: left;margin-right: 0.25em;color: #696969;}#sk-container-id-1 label.sk-toggleable__label-arrow:hover:before {color: black;}#sk-container-id-1 div.sk-estimator:hover label.sk-toggleable__label-arrow:before {color: black;}#sk-container-id-1 div.sk-toggleable__content {max-height: 0;max-width: 0;overflow: hidden;text-align: left;background-color: #f0f8ff;}#sk-container-id-1 div.sk-toggleable__content pre {margin: 0.2em;color: black;border-radius: 0.25em;background-color: #f0f8ff;}#sk-container-id-1 input.sk-toggleable__control:checked~div.sk-toggleable__content {max-height: 200px;max-width: 100%;overflow: auto;}#sk-container-id-1 input.sk-toggleable__control:checked~label.sk-toggleable__label-arrow:before {content: \"▾\";}#sk-container-id-1 div.sk-estimator input.sk-toggleable__control:checked~label.sk-toggleable__label {background-color: #d4ebff;}#sk-container-id-1 div.sk-label input.sk-toggleable__control:checked~label.sk-toggleable__label {background-color: #d4ebff;}#sk-container-id-1 input.sk-hidden--visually {border: 0;clip: rect(1px 1px 1px 1px);clip: rect(1px, 1px, 1px, 1px);height: 1px;margin: -1px;overflow: hidden;padding: 0;position: absolute;width: 1px;}#sk-container-id-1 div.sk-estimator {font-family: monospace;background-color: #f0f8ff;border: 1px dotted black;border-radius: 0.25em;box-sizing: border-box;margin-bottom: 0.5em;}#sk-container-id-1 div.sk-estimator:hover {background-color: #d4ebff;}#sk-container-id-1 div.sk-parallel-item::after {content: \"\";width: 100%;border-bottom: 1px solid gray;flex-grow: 1;}#sk-container-id-1 div.sk-label:hover label.sk-toggleable__label {background-color: #d4ebff;}#sk-container-id-1 div.sk-serial::before {content: \"\";position: absolute;border-left: 1px solid gray;box-sizing: border-box;top: 0;bottom: 0;left: 50%;z-index: 0;}#sk-container-id-1 div.sk-serial {display: flex;flex-direction: column;align-items: center;background-color: white;padding-right: 0.2em;padding-left: 0.2em;position: relative;}#sk-container-id-1 div.sk-item {position: relative;z-index: 1;}#sk-container-id-1 div.sk-parallel {display: flex;align-items: stretch;justify-content: center;background-color: white;position: relative;}#sk-container-id-1 div.sk-item::before, #sk-container-id-1 div.sk-parallel-item::before {content: \"\";position: absolute;border-left: 1px solid gray;box-sizing: border-box;top: 0;bottom: 0;left: 50%;z-index: -1;}#sk-container-id-1 div.sk-parallel-item {display: flex;flex-direction: column;z-index: 1;position: relative;background-color: white;}#sk-container-id-1 div.sk-parallel-item:first-child::after {align-self: flex-end;width: 50%;}#sk-container-id-1 div.sk-parallel-item:last-child::after {align-self: flex-start;width: 50%;}#sk-container-id-1 div.sk-parallel-item:only-child::after {width: 0;}#sk-container-id-1 div.sk-dashed-wrapped {border: 1px dashed gray;margin: 0 0.4em 0.5em 0.4em;box-sizing: border-box;padding-bottom: 0.4em;background-color: white;}#sk-container-id-1 div.sk-label label {font-family: monospace;font-weight: bold;display: inline-block;line-height: 1.2em;}#sk-container-id-1 div.sk-label-container {text-align: center;}#sk-container-id-1 div.sk-container {/* jupyter's `normalize.less` sets `[hidden] { display: none; }` but bootstrap.min.css set `[hidden] { display: none !important; }` so we also need the `!important` here to be able to override the default hidden behavior on the sphinx rendered scikit-learn.org. See: https://github.com/scikit-learn/scikit-learn/issues/21755 */display: inline-block !important;position: relative;}#sk-container-id-1 div.sk-text-repr-fallback {display: none;}</style><div id=\"sk-container-id-1\" class=\"sk-top-container\"><div class=\"sk-text-repr-fallback\"><pre>LinearRegression()</pre><b>In a Jupyter environment, please rerun this cell to show the HTML representation or trust the notebook. <br />On GitHub, the HTML representation is unable to render, please try loading this page with nbviewer.org.</b></div><div class=\"sk-container\" hidden><div class=\"sk-item\"><div class=\"sk-estimator sk-toggleable\"><input class=\"sk-toggleable__control sk-hidden--visually\" id=\"sk-estimator-id-1\" type=\"checkbox\" checked><label for=\"sk-estimator-id-1\" class=\"sk-toggleable__label sk-toggleable__label-arrow\">LinearRegression</label><div class=\"sk-toggleable__content\"><pre>LinearRegression()</pre></div></div></div></div></div>"
      ],
      "text/plain": [
       "LinearRegression()"
      ]
     },
     "execution_count": 11,
     "metadata": {},
     "output_type": "execute_result"
    }
   ],
   "source": [
    "lr.fit(X_train, y_train)"
   ]
  },
  {
   "cell_type": "code",
   "execution_count": 12,
   "metadata": {},
   "outputs": [],
   "source": [
    "lr_preds = lr.predict(X_test)"
   ]
  },
  {
   "cell_type": "code",
   "execution_count": 13,
   "metadata": {},
   "outputs": [
    {
     "data": {
      "text/plain": [
       "0.914455328098405"
      ]
     },
     "execution_count": 13,
     "metadata": {},
     "output_type": "execute_result"
    }
   ],
   "source": [
    "lr.score(X_test, y_test)"
   ]
  },
  {
   "cell_type": "code",
   "execution_count": 15,
   "metadata": {},
   "outputs": [],
   "source": [
    "normalization = tf.keras.layers.Normalization()\n",
    "normalization.adapt(X_train)"
   ]
  },
  {
   "cell_type": "code",
   "execution_count": 16,
   "metadata": {},
   "outputs": [
    {
     "data": {
      "text/plain": [
       "Index(['Corners', 'Crossing', 'Dribbling', 'Finishing', 'First Touch',\n",
       "       'Free Kick Taking', 'Heading', 'Long Shots', 'Long Throws', 'Marking',\n",
       "       'Passing', 'Penalty Taking', 'Tackling', 'Technique', 'Aggressiion',\n",
       "       'Anticipation', 'Bravery', 'Composure', 'Concentration', 'Vision',\n",
       "       'Decision', 'Determination', 'Flair', 'Leadership', 'Off The Ball',\n",
       "       'Positioning', 'Teamwork', 'Work Rate', 'Acceleration', 'Agility',\n",
       "       'Balance', 'Jumping Reach', 'Natural Fitness', 'Pace', 'Stamina',\n",
       "       'Strength', 'Stability', 'Foul', 'diversity', 'Aerial Reach',\n",
       "       'Command Of Area', 'Communication', 'Eccentricity', 'Handling',\n",
       "       'Kicking', 'One On Ones', 'Reflexes', 'Rushing Out', 'Punching',\n",
       "       'Throwing', 'GK', 'DL', 'DC', 'DR', 'WBL', 'WBR', 'DM', 'ML', 'MC',\n",
       "       'MR', 'AML', 'AMC', 'AMR', 'ST', 'Left Foot', 'Right Foot'],\n",
       "      dtype='object')"
      ]
     },
     "execution_count": 16,
     "metadata": {},
     "output_type": "execute_result"
    }
   ],
   "source": [
    "X_train.columns"
   ]
  },
  {
   "cell_type": "code",
   "execution_count": 17,
   "metadata": {},
   "outputs": [],
   "source": [
    "import pickle"
   ]
  },
  {
   "cell_type": "code",
   "execution_count": 2,
   "metadata": {},
   "outputs": [],
   "source": [
    "from joblib import dump, load\n",
    "\n",
    "dump(lr, \"ca_predictor.joblib\")"
   ]
  },
  {
   "cell_type": "code",
   "execution_count": 3,
   "metadata": {},
   "outputs": [],
   "source": [
    "lr_model = load(\"ca_predictor.joblib\")"
   ]
  },
  {
   "cell_type": "code",
   "execution_count": 67,
   "metadata": {},
   "outputs": [
    {
     "data": {
      "text/plain": [
       "0.914455328098405"
      ]
     },
     "execution_count": 67,
     "metadata": {},
     "output_type": "execute_result"
    }
   ],
   "source": [
    "lr_model.score(X_test, y_test)"
   ]
  },
  {
   "cell_type": "code",
   "execution_count": 21,
   "metadata": {},
   "outputs": [],
   "source": [
    "from sklearn.metrics import mean_absolute_error as MAE"
   ]
  },
  {
   "cell_type": "code",
   "execution_count": 22,
   "metadata": {},
   "outputs": [
    {
     "data": {
      "text/plain": [
       "4.030857094591231"
      ]
     },
     "execution_count": 22,
     "metadata": {},
     "output_type": "execute_result"
    }
   ],
   "source": [
    "MAE(y_test, lr_preds)"
   ]
  },
  {
   "cell_type": "code",
   "execution_count": 55,
   "metadata": {},
   "outputs": [
    {
     "name": "stderr",
     "output_type": "stream",
     "text": [
      "c:\\ProgramData\\miniconda3\\Lib\\site-packages\\sklearn\\base.py:464: UserWarning: X does not have valid feature names, but LinearRegression was fitted with feature names\n",
      "  warnings.warn(\n"
     ]
    }
   ],
   "source": [
    "import random\n",
    "\n",
    "i = random.randint(0, 1000)\n",
    "X, y = X_test.iloc[i], y_test.iloc[i]\n",
    "p = lr_model.predict(X.to_numpy().reshape(1, -1))"
   ]
  },
  {
   "cell_type": "code",
   "execution_count": 56,
   "metadata": {},
   "outputs": [
    {
     "data": {
      "text/plain": [
       "(array([124.76165247]), array([False]))"
      ]
     },
     "execution_count": 56,
     "metadata": {},
     "output_type": "execute_result"
    }
   ],
   "source": [
    "p, p-5 < y < p+5"
   ]
  },
  {
   "cell_type": "code",
   "execution_count": 57,
   "metadata": {},
   "outputs": [
    {
     "data": {
      "text/plain": [
       "119"
      ]
     },
     "execution_count": 57,
     "metadata": {},
     "output_type": "execute_result"
    }
   ],
   "source": [
    "y"
   ]
  },
  {
   "cell_type": "code",
   "execution_count": 59,
   "metadata": {},
   "outputs": [
    {
     "data": {
      "text/plain": [
       "array([ 9, 12, 13, 12, 13, 12, 15, 11,  5, 11, 12, 14,  7, 13,  5, 12, 10,\n",
       "       10, 10, 12, 11, 12, 13, 12, 12, 12, 13, 10, 14, 12, 15, 12, 15, 13,\n",
       "       13,  9, 20, 15, 11,  3,  1,  1,  1,  1,  1,  1,  3,  4,  3,  1,  1,\n",
       "        1,  1,  1,  1,  1,  1,  1,  1,  1,  1,  1, 14, 20, 11, 20],\n",
       "      dtype=int64)"
      ]
     },
     "execution_count": 59,
     "metadata": {},
     "output_type": "execute_result"
    }
   ],
   "source": [
    "X.to_numpy()"
   ]
  },
  {
   "cell_type": "code",
   "execution_count": 62,
   "metadata": {},
   "outputs": [
    {
     "ename": "ImportError",
     "evalue": "cannot import name 'joblib' from 'sklearn.externals' (c:\\ProgramData\\miniconda3\\Lib\\site-packages\\sklearn\\externals\\__init__.py)",
     "output_type": "error",
     "traceback": [
      "\u001b[1;31m---------------------------------------------------------------------------\u001b[0m",
      "\u001b[1;31mImportError\u001b[0m                               Traceback (most recent call last)",
      "Cell \u001b[1;32mIn[62], line 1\u001b[0m\n\u001b[1;32m----> 1\u001b[0m \u001b[39mfrom\u001b[39;00m \u001b[39msklearn\u001b[39;00m\u001b[39m.\u001b[39;00m\u001b[39mexternals\u001b[39;00m \u001b[39mimport\u001b[39;00m joblib\n\u001b[0;32m      3\u001b[0m joblib\u001b[39m.\u001b[39mdump(lr, \u001b[39m\"\u001b[39m\u001b[39mca_predictor.joblib\u001b[39m\u001b[39m\"\u001b[39m)\n",
      "\u001b[1;31mImportError\u001b[0m: cannot import name 'joblib' from 'sklearn.externals' (c:\\ProgramData\\miniconda3\\Lib\\site-packages\\sklearn\\externals\\__init__.py)"
     ]
    }
   ],
   "source": [
    "from sklearn.externals import \n",
    "\n",
    "joblib.dump(lr, \"ca_predictor.joblib\")"
   ]
  },
  {
   "cell_type": "code",
   "execution_count": null,
   "metadata": {},
   "outputs": [],
   "source": []
  }
 ],
 "metadata": {
  "kernelspec": {
   "display_name": "base",
   "language": "python",
   "name": "python3"
  },
  "language_info": {
   "codemirror_mode": {
    "name": "ipython",
    "version": 3
   },
   "file_extension": ".py",
   "mimetype": "text/x-python",
   "name": "python",
   "nbconvert_exporter": "python",
   "pygments_lexer": "ipython3",
   "version": "3.11.4"
  },
  "orig_nbformat": 4
 },
 "nbformat": 4,
 "nbformat_minor": 2
}
